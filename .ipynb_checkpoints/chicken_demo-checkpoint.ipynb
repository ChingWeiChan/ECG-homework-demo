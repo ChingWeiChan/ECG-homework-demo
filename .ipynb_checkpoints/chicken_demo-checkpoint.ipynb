{
 "cells": [
  {
   "cell_type": "markdown",
   "metadata": {
    "id": "VxixVhwcL73z"
   },
   "source": [
    "# Install the requirement and packages"
   ]
  },
  {
   "cell_type": "code",
   "execution_count": null,
   "metadata": {
    "colab": {
     "base_uri": "https://localhost:8080/"
    },
    "id": "WiKanGlwbCuN",
    "outputId": "0041812b-776b-4d5a-bf38-752efa37f529"
   },
   "outputs": [
    {
     "name": "stdout",
     "output_type": "stream",
     "text": [
      "  % Total    % Received % Xferd  Average Speed   Time    Time     Time  Current\n",
      "                                 Dload  Upload   Total   Spent    Left  Speed\n",
      "100   892  100   892    0     0    468      0  0:00:01  0:00:01 --:--:--   468\n",
      "100 58.9M  100 58.9M    0     0  21.1M      0  0:00:02  0:00:02 --:--:--  111M\n",
      "Archive:  roboflow.zip\n",
      " extracting: README.dataset.txt      \n",
      " extracting: README.roboflow.txt     \n",
      "   creating: train/\n",
      " extracting: train/0055_png.rf.5867575f7facef50e8752469026e57f4.jpg  \n",
      " extracting: train/0057_png.rf.0e5457e8188d827b04b87cef5ef73384.jpg  \n",
      " extracting: train/0058_png.rf.377f6de8073af39d79c71aa3a8de0c58.jpg  \n",
      " extracting: train/0059_png.rf.8e115e93827bf5f9bafb9ef7afe25d3c.jpg  \n",
      " extracting: train/0061_png.rf.489fef22fcc5006bc158c84bd508ad4c.jpg  \n",
      " extracting: train/0063_png.rf.b00bf79c53fb176ea0f87b4026253bcb.jpg  \n",
      " extracting: train/0065_png.rf.e93c6edf94c38c67f6429e43e3b0da7e.jpg  \n",
      " extracting: train/0066_png.rf.517748c05ee68beac0ea072cc1678819.jpg  \n",
      " extracting: train/0068_png.rf.b6060de1cbc825b3c50b59ba9996010d.jpg  \n",
      " extracting: train/0069_png.rf.4c228e9100913bb66abdd83d77f9b3ee.jpg  \n",
      " extracting: train/0070_png.rf.10fa3d67c190ed285007ad77e56d0ec0.jpg  \n",
      " extracting: train/0073_png.rf.809f9e6bd4eb2e84431b912b89b8e06e.jpg  \n",
      " extracting: train/0074_png.rf.6dc519f79a0d727efd0a6b87fc3bb339.jpg  \n",
      " extracting: train/0075_png.rf.78cf50454e1dac55b846ad1c60b2ac7a.jpg  \n",
      " extracting: train/0077_png.rf.c7fdbbf6f37b78ce5be9e6be7768ba00.jpg  \n",
      " extracting: train/0078_png.rf.b3139a190554e2dcfc62595a7d08d67a.jpg  \n",
      " extracting: train/0079_png.rf.c3ee4c5f6586b17408007effa3db1d89.jpg  \n",
      " extracting: train/0082_png.rf.e2dd9d2f1083550d73628c55297f753b.jpg  \n",
      " extracting: train/0083_png.rf.987068e0a722d012264d1cf517e82b61.jpg  \n",
      " extracting: train/0084_png.rf.5fdbcef29f0b6bc47e4c882dfbfe01b5.jpg  \n",
      " extracting: train/0086_png.rf.c00cf24c7fe4e32a9171a0b2aff69c7c.jpg  \n",
      " extracting: train/0087_png.rf.c5764465ddeb9ae75d886201a7e3819c.jpg  \n",
      " extracting: train/0089_png.rf.c3edf68eeabb71aee66ff34777a92aae.jpg  \n",
      " extracting: train/0091_png.rf.878de01a9165e88419e45bf1c757eb72.jpg  \n",
      " extracting: train/0092_png.rf.8dba0641433a82e68bc46bc23203c6a9.jpg  \n",
      " extracting: train/0093_png.rf.3b05499b9914adfe5400607df53b4018.jpg  \n",
      " extracting: train/0095_png.rf.ddcb58f9f8c0af0f4cb889b97fcf8cbf.jpg  \n",
      " extracting: train/0096_png.rf.fdad64c95848b45ef7be43cdadf126a1.jpg  \n",
      " extracting: train/0098_png.rf.fdd6f9d6686896cd1f31eb9939cdd5a8.jpg  \n",
      " extracting: train/0100_png.rf.517ffe9fdb1deafae667943dd2e8091a.jpg  \n",
      " extracting: train/0101_png.rf.bd421e406e7559561e0f8fee34c38c33.jpg  \n",
      " extracting: train/0102_png.rf.03319157d70d115b253cc362ca91cfad.jpg  \n",
      " extracting: train/0104_png.rf.27f1d6dba1c50bf05033b00e639443bb.jpg  \n",
      " extracting: train/0105_png.rf.4f622d7724e573731a0f40b078f5bb55.jpg  \n",
      " extracting: train/0107_png.rf.7ec54297c690052581daf350725196bf.jpg  \n",
      " extracting: train/0109_png.rf.00e82ed94337dac974d05474c6ff97fa.jpg  \n",
      " extracting: train/0110_png.rf.56e947c47f10a50ba6221a7ac275f842.jpg  \n",
      " extracting: train/0111_png.rf.8078db9f5b4c9277db7077705df01940.jpg  \n",
      " extracting: train/0113_png.rf.cd3d3f5bea754ae80fd141acfdec1798.jpg  \n",
      " extracting: train/0114_png.rf.63f9a61367bf3a046b69705eec8cca94.jpg  \n",
      " extracting: train/0116_png.rf.616adb6b03355989e849486359e98d70.jpg  \n",
      " extracting: train/0118_png.rf.35d12e4d4156a198a1c8e691251f5d97.jpg  \n",
      " extracting: train/0119_png.rf.32d9a1ba09432d51fd839ea6b5f21820.jpg  \n",
      " extracting: train/0120_png.rf.0608c6bfcfd6d6389408b0a5b0d11546.jpg  \n",
      " extracting: train/0124_png.rf.36a1bc4f3cb84926e112ceca62f32856.jpg  \n",
      " extracting: train/0126_png.rf.d3df2257cb1c32c0294c5dfde6f5b90f.jpg  \n",
      " extracting: train/0128_png.rf.77d85d44858031e36f5cbf7a9cc30fab.jpg  \n",
      " extracting: train/0131_png.rf.f11cb8225ca2831451934a1f22304dd2.jpg  \n",
      " extracting: train/0133_png.rf.35fd0bf34361146d445eb7be7a165b05.jpg  \n",
      " extracting: train/0135_png.rf.c8c8f4fe417f339378b4dcbd98f093c9.jpg  \n",
      " extracting: train/0139_png.rf.2e3e42aa4e3bc40602abe54aeb1c72dc.jpg  \n",
      " extracting: train/0140_png.rf.23f772a288f669ee026175abbe9c7bb4.jpg  \n",
      " extracting: train/0142_png.rf.8856672c4077827ec884eb7bf16fdc47.jpg  \n",
      " extracting: train/0148_png.rf.be0e68a8a5b781e837d71fd918115114.jpg  \n",
      " extracting: train/0149_png.rf.b8fd7fc763d3089b8552cf1394cb8e37.jpg  \n",
      " extracting: train/0152_png.rf.8863d4677d4ecf8bb47a9e471cd4d507.jpg  \n",
      " extracting: train/13932002171_f9a4f18877_k_jpg.rf.664293c0803b4ba8238a0f7d7c4fd802.jpg  \n",
      " extracting: train/13932006336_2a34afaa95_k_jpg.rf.e9141a0a2f2460ed4a1a43f8902b2194.jpg  \n",
      " extracting: train/13934706000_fccbc86311_k_jpg.rf.e12d2106f056f462105d26a3c84a0a9a.jpg  \n",
      " extracting: train/16176618721_e7ae0aef6e_h_jpg.rf.c093306c495d48367386ee04a09f85ab.jpg  \n",
      " extracting: train/2092806873_52899e143c_h_jpg.rf.1a340d2e32abe30a33b49a050333e866.jpg  \n",
      " extracting: train/2119463482_accbc7014e_h_jpg.rf.5324925146b35618808925b6f7dddffc.jpg  \n",
      " extracting: train/25026311133_e0d3c6b62f_k_jpg.rf.e5517d9a7f6fb28ce77c9bb2dc35cf20.jpg  \n",
      " extracting: train/25626884296_a8badff734_k_jpg.rf.6cfb123c308c2936907b8a994a36f037.jpg  \n",
      " extracting: train/335506143_11e2a28cb1_h_jpg.rf.966b132d672ad2ec9dc50d7b61e982cb.jpg  \n",
      " extracting: train/3396300966_e0c51185b6_k_jpg.rf.8407cc69bae063062a940c5f936d9c10.jpg  \n",
      " extracting: train/4036169596_f23c47d863_k_jpg.rf.4a66c41d25c7cd8ee9031ffd272c3740.jpg  \n",
      " extracting: train/5503235930_fd60d66d2e_h_jpg.rf.96aed7b5fd454ff039e358385b1fa3f8.jpg  \n",
      " extracting: train/8957492918_19f7f4a27d_k_jpg.rf.5dc303b18e180f22865113798d3a28db.jpg  \n",
      " extracting: train/8957499558_3c19c60bb7_k_jpg.rf.134132a87a28c0849930ff53b043c3b5.jpg  \n",
      " extracting: train/9340869568_168ad1a4d0_k_jpg.rf.cf1c422c4e48e42b9af0106866bf0854.jpg  \n",
      " extracting: train/9621267633_ad716ef6ea_k_jpg.rf.c4dd1f35fef75bba8e89c70d01d17952.jpg  \n",
      " extracting: train/9624500806_67b2343c58_k_jpg.rf.15633cb2c9db106d50d59641b403194e.jpg  \n",
      " extracting: train/_annotations.coco.json  \n",
      " extracting: train/img_0_png.rf.b5ec2abc3fad2ef9da89e0292630190d.jpg  \n",
      " extracting: train/img_100_png.rf.6e2a991a0ee2b8ab4538448808cb49e6.jpg  \n",
      " extracting: train/img_103_png.rf.dc41d7514feb9f7cb9184f846f312bd0.jpg  \n",
      " extracting: train/img_104_png.rf.551d01816b65e568a003dfbcf5b717f6.jpg  \n",
      " extracting: train/img_105_png.rf.6eb7fb9fcdf9ca2991ab4ca8a3531410.jpg  \n",
      " extracting: train/img_106_png.rf.1e4caf6e3d292eac2f85c09b7b4d1ee9.jpg  \n",
      " extracting: train/img_10_png.rf.53bb7ed45c9bb6b1b31d5badeb7d9c92.jpg  \n",
      " extracting: train/img_111_png.rf.937602f3004e34f96cbad5f314ca8c6e.jpg  \n",
      " extracting: train/img_112_png.rf.a11422c0fd976f80269fc8d23661d0b2.jpg  \n",
      " extracting: train/img_113_png.rf.ae2b310b896a851481b5deb666f79f2a.jpg  \n",
      " extracting: train/img_115_png.rf.c102aff20196a2a414039cea89c0ee80.jpg  \n",
      " extracting: train/img_119_png.rf.2f366dedb6ae097b5547f7417e9067a4.jpg  \n",
      " extracting: train/img_11_png.rf.67f53639135249315f682d4e666cd963.jpg  \n",
      " extracting: train/img_122_png.rf.9c727ab3ba682a50162b498737096263.jpg  \n",
      " extracting: train/img_124_png.rf.2339a0422ac57e79096de974716614db.jpg  \n",
      " extracting: train/img_125_png.rf.6d448d8879abef4cf70a127076f72812.jpg  \n",
      " extracting: train/img_126_png.rf.70d30ff3236c81391828e148e05d527e.jpg  \n",
      " extracting: train/img_127_png.rf.67daee5d45daaac3fd3a18c2e9c1fbe7.jpg  \n",
      " extracting: train/img_12_png.rf.22ed5e233aa981d7d125c0a5884abe31.jpg  \n",
      " extracting: train/img_130_png.rf.3f6631c4a2c9bd72e31241d07f8f413f.jpg  \n",
      " extracting: train/img_131_png.rf.89aae2c76b59e1bd21e24a09c66c8bf7.jpg  \n",
      " extracting: train/img_132_png.rf.181a14707046062b4c68c612b407f012.jpg  \n",
      " extracting: train/img_133_png.rf.205e0ec69ff2b35850b5838aa24f2cfa.jpg  \n",
      " extracting: train/img_135_png.rf.dc21e2556d9a20494c49431245959a18.jpg  \n",
      " extracting: train/img_136_png.rf.169601190d4db47ce3d42479e6368f72.jpg  \n",
      " extracting: train/img_137_png.rf.4debcb753bac3411cc61939d1ae4ff59.jpg  \n",
      " extracting: train/img_138_png.rf.360ef93e712c5eacda70a78a8016b731.jpg  \n",
      " extracting: train/img_139_png.rf.ec6cb22a47c7497941ff2216757d9bba.jpg  \n",
      " extracting: train/img_140_png.rf.94114fffcf9d27d77b496f54a3fa88ba.jpg  \n",
      " extracting: train/img_141_png.rf.b2be214e9f277fe52241ee293dbc8226.jpg  \n",
      " extracting: train/img_142_png.rf.0f1e06ce7d881cd0265b07fc7b792813.jpg  \n",
      " extracting: train/img_145_png.rf.9a38eb5e8e35449ab6a1bd5e4dd55f38.jpg  \n",
      " extracting: train/img_146_png.rf.3f3992351f616d497ea69b3d043852fc.jpg  \n",
      " extracting: train/img_147_png.rf.e58615117512d4cfc570697fbb2fb532.jpg  \n",
      " extracting: train/img_148_png.rf.07160ff641830c6a135f984b81761304.jpg  \n",
      " extracting: train/img_149_png.rf.d66d63d0430d4113c995dcd679b77cb1.jpg  \n",
      " extracting: train/img_14_png.rf.6567040f4c0bad298b8148889751c199.jpg  \n",
      " extracting: train/img_150_png.rf.8798ecea23726db075220a99c2889e49.jpg  \n",
      " extracting: train/img_151_png.rf.1f2f753a02431aa42cf288642d36b3a6.jpg  \n",
      " extracting: train/img_155_png.rf.40d67261ff351eee4e8537de7c80159f.jpg  \n",
      " extracting: train/img_157_png.rf.2906c8bf47ac11c7a201fd3360d87634.jpg  \n",
      " extracting: train/img_159_png.rf.4b0d436b43d9cd23e8de81e011188384.jpg  \n",
      " extracting: train/img_161_png.rf.3fb6908b9fc9f6c8cac7eb7637077a2c.jpg  \n",
      " extracting: train/img_163_png.rf.49b4fd6ef112455d1ecafa948cd24934.jpg  \n",
      " extracting: train/img_164_png.rf.4c26e888776ad454112e60b5ae309816.jpg  \n",
      " extracting: train/img_166_png.rf.7f5eed86194dbbaf35cb7e69a7f616c7.jpg  \n",
      " extracting: train/img_167_png.rf.528e22102793c5a34ee4167e429ecf45.jpg  \n",
      " extracting: train/img_170_png.rf.7f004898b13b4a70c2419515788363de.jpg  \n",
      " extracting: train/img_172_png.rf.cc69bc6ee4b802c3fb49bcb3ae5d1a01.jpg  \n",
      " extracting: train/img_173_png.rf.cd2c9694eda5f48753b303bef3d6555a.jpg  \n",
      " extracting: train/img_174_png.rf.2b7a83d463b38de6bb8cfb618a04f90d.jpg  \n",
      " extracting: train/img_176_png.rf.b2bf43a2bec984c120ca29f3b5065f41.jpg  \n",
      " extracting: train/img_177_png.rf.ba50b0e2c2daccf7048b78c3e2924320.jpg  \n",
      " extracting: train/img_178_png.rf.a0793717f07dafacb0be27c8fdbea458.jpg  \n",
      " extracting: train/img_182_png.rf.19f7e3ae1f4eed1ea42d5836b07a5e99.jpg  \n",
      " extracting: train/img_184_png.rf.f20347e0670940cc08a6a1894ac064d0.jpg  \n",
      " extracting: train/img_185_png.rf.b8e9da8de9f7193772780e38ce00b6c6.jpg  \n",
      " extracting: train/img_186_png.rf.3b826dfefba1f2debb29e8ea4c589442.jpg  \n",
      " extracting: train/img_187_png.rf.cdaf5829df6ea4b8319c46c7aac751e1.jpg  \n",
      " extracting: train/img_190_png.rf.be22dd7a595d0d3c4327d27d49cc8c67.jpg  \n",
      " extracting: train/img_191_png.rf.18d79073f7867f8f4f6b058d181cabc3.jpg  \n",
      " extracting: train/img_193_png.rf.f477e7d8c1fd7ee52f14e88c24ba3930.jpg  \n",
      " extracting: train/img_194_png.rf.8bb9822f6cf7878f24e9b527d5b63aac.jpg  \n",
      " extracting: train/img_196_png.rf.dbf2d95217fdcbedb65412a268fb4251.jpg  \n",
      " extracting: train/img_197_png.rf.9d498cf15003645032146092a067aede.jpg  \n",
      " extracting: train/img_198_png.rf.d16478aabf7e277793f576fe4c028941.jpg  \n",
      " extracting: train/img_199_png.rf.ec5fd6762aa896ac9eca2051f17f7ea3.jpg  \n",
      " extracting: train/img_19_png.rf.5171dbf566f2992ca380f09515d1eb00.jpg  \n",
      " extracting: train/img_1_png.rf.8e3104cdd20c4ccb364e831563ea878c.jpg  \n",
      " extracting: train/img_202_png.rf.1db50d09b3e9e47a8bdcfd2f35eb31f9.jpg  \n",
      " extracting: train/img_203_png.rf.5719c8013c6bcc75687381134b6580a9.jpg  \n",
      " extracting: train/img_204_png.rf.2de79fd6a018fec2722525e6179073e5.jpg  \n",
      " extracting: train/img_206_png.rf.f7109406e9303fae9a5640fc5f0cb6d9.jpg  \n",
      " extracting: train/img_207_png.rf.3872ef8cadad67c2d54f5be1c920e9c1.jpg  \n",
      " extracting: train/img_20_png.rf.29716f6f01ee18b0b0e1bd7b877f148c.jpg  \n",
      " extracting: train/img_210_png.rf.d02b25d7a360e0f76db1e93570537e7c.jpg  \n",
      " extracting: train/img_212_png.rf.96fb9af31deab70dfa74b30d8e331d36.jpg  \n",
      " extracting: train/img_213_png.rf.dd255de5898f21bdf19384a4df33ae20.jpg  \n",
      " extracting: train/img_215_png.rf.0396b71c31794c4334522f43c7cf52f2.jpg  \n",
      " extracting: train/img_217_png.rf.a94614c23f8f5063b48773bcabc078bf.jpg  \n",
      " extracting: train/img_219_png.rf.9f7aef353564a2470576b695b522f1d1.jpg  \n",
      " extracting: train/img_21_png.rf.2f3056adaeb1973b12d7c6641d08900a.jpg  \n",
      " extracting: train/img_220_png.rf.7f5b5ec5c5ac5a535641f05cf20a10cc.jpg  \n",
      " extracting: train/img_222_png.rf.f0ddbbe1ea4a0fe2cb0f768c7edf337c.jpg  \n",
      " extracting: train/img_223_png.rf.337e018577eb88e87a24e4edf2e2c112.jpg  \n",
      " extracting: train/img_226_png.rf.ee8a69d8e8ee064feefc1ff8981a7e32.jpg  \n",
      " extracting: train/img_227_png.rf.1286e12d97ad78e7809e8a43daca04c5.jpg  \n",
      " extracting: train/img_228_png.rf.282409f4a0b9a4ea7a45e1d318428769.jpg  \n",
      " extracting: train/img_230_png.rf.64e8c85d9c31eb3d66a2fc174e7167b9.jpg  \n",
      " extracting: train/img_231_png.rf.6e909478afee7528aaeba5f67f89c7dc.jpg  \n",
      " extracting: train/img_235_png.rf.0a76256fb3e3a32b0955d96772a3462c.jpg  \n",
      " extracting: train/img_236_png.rf.71bcfa9a3bb34891020892f7dbba03d2.jpg  \n",
      " extracting: train/img_240_png.rf.43c2bc6d84bd9c0750003dd5936162a7.jpg  \n",
      " extracting: train/img_242_png.rf.372ed767b8d903561da63b4afe527462.jpg  \n",
      " extracting: train/img_246_png.rf.958f9b1a725c0c9d6b396bb9fc6b765e.jpg  \n",
      " extracting: train/img_247_png.rf.662a96d99c70a77aa6e9a94b599c5cdb.jpg  \n",
      " extracting: train/img_248_png.rf.7611ab10c2e761f52768ebcf7ee08828.jpg  \n",
      " extracting: train/img_249_png.rf.133828e99808ea23d00ce2516f529c91.jpg  \n",
      " extracting: train/img_250_png.rf.bfd6cebf1a147bfb76debf1bae5892a5.jpg  \n",
      " extracting: train/img_251_png.rf.2c144a4f34b9116d2d66f97082e1a219.jpg  \n",
      " extracting: train/img_252_png.rf.0ba1f0e18f1b97595080d02b6635273d.jpg  \n",
      " extracting: train/img_253_png.rf.2143e625cb065fab319ff1b42bfa17e5.jpg  \n",
      " extracting: train/img_255_png.rf.11a098a15ff9f979b8d9f7325a9bcc8c.jpg  \n",
      " extracting: train/img_257_png.rf.659153039a81b256fb81479815c3f986.jpg  \n",
      " extracting: train/img_258_png.rf.c80a45dcf9f777b88b6b7c187f3ae18f.jpg  \n",
      " extracting: train/img_260_png.rf.230d997e9ac4eb3ce6ea2da67dc200a2.jpg  \n",
      " extracting: train/img_261_png.rf.83aa2445c34deb987445eda4c0e46c18.jpg  \n",
      " extracting: train/img_262_png.rf.c23747d57bd9c53c5cc2d019419c41f5.jpg  \n",
      " extracting: train/img_263_png.rf.03cb1b33c4a2194ab4be2b7a44904e19.jpg  \n",
      " extracting: train/img_264_png.rf.df29ad94219310ee5bbd26eeff0ade97.jpg  \n",
      " extracting: train/img_266_png.rf.ce11c6bf056cf8b142a0e5b2fce52c25.jpg  \n",
      " extracting: train/img_269_png.rf.76c0011f62a18383d5c46e7e098af61c.jpg  \n",
      " extracting: train/img_26_png.rf.1cd999952f1f2a6d6289adaa4a3ab8f2.jpg  \n",
      " extracting: train/img_270_png.rf.c30eb17296b2c3e64ba07565184a2a6e.jpg  \n",
      " extracting: train/img_272_png.rf.c1241d6aa3a649a88fa7146b462d08c6.jpg  \n",
      " extracting: train/img_275_png.rf.90d647b43e0e02f9cf0054a2ad8f597f.jpg  \n",
      " extracting: train/img_276_png.rf.ca94b3b53833188fef98583950ab7404.jpg  \n",
      " extracting: train/img_277_png.rf.341fa3040b5e19bb305b8bd9518fb3be.jpg  \n",
      " extracting: train/img_279_png.rf.75b8226ffefe1049a379cf8a2a8b16db.jpg  \n",
      " extracting: train/img_280_png.rf.9c75925c97433e18e621ff4b2da71ec2.jpg  \n",
      " extracting: train/img_281_png.rf.deb8e38ec59f97660c3d301bd40b2725.jpg  \n",
      " extracting: train/img_282_png.rf.39e6f4f9965cab6cf9018a141e79d27e.jpg  \n",
      " extracting: train/img_283_png.rf.922992a1fb5f04e166746a5f998657c7.jpg  \n",
      " extracting: train/img_286_png.rf.6490c075b193a5a4924f1f61f8c86dc8.jpg  \n",
      " extracting: train/img_287_png.rf.559f3a0f9b1dc18ed8b2e8327e824103.jpg  \n",
      " extracting: train/img_288_png.rf.8815a549cb3635d93a3eee09d111c587.jpg  \n",
      " extracting: train/img_289_png.rf.18310f56a121a41d3bc6b1c80cd1972e.jpg  \n",
      " extracting: train/img_290_png.rf.e7610156e38e39c28f73f142f5c05008.jpg  \n",
      " extracting: train/img_297_png.rf.bc9264e334133cf2b83e8ca866a1a8ee.jpg  \n",
      " extracting: train/img_298_png.rf.c9a50d6b01268c77a083c09fd74220c7.jpg  \n",
      " extracting: train/img_299_png.rf.69116cd24a34977d48ca674eb457fe79.jpg  \n",
      " extracting: train/img_29_png.rf.6c257f4d22d2b5c913917538c27e0ee9.jpg  \n",
      " extracting: train/img_300_png.rf.7216c593e224495fa8a76f7fddb4dd63.jpg  \n",
      " extracting: train/img_301_png.rf.d7a963a279643d83984af4973cd6fc30.jpg  \n",
      " extracting: train/img_302_png.rf.59c1527808ea9747ef944d4de92372ad.jpg  \n",
      " extracting: train/img_303_png.rf.3c325a7c692a2f547252703e9d805853.jpg  \n",
      " extracting: train/img_304_png.rf.52e30fa31f8099da22ab1239d7fdcca6.jpg  \n",
      " extracting: train/img_305_png.rf.2872e58cf6c082118fe60e57aa987fa3.jpg  \n",
      " extracting: train/img_306_png.rf.0bf69ccaef24f73f4c61b3c22e7ac7d4.jpg  \n",
      " extracting: train/img_307_png.rf.fca08884d39fc78380180ba8770a4807.jpg  \n",
      " extracting: train/img_308_png.rf.5b9cd5e2247d32aef7ce2535975b283a.jpg  \n",
      " extracting: train/img_309_png.rf.81dcc89648f9cdc4d0681ab53cf6c061.jpg  \n",
      " extracting: train/img_30_png.rf.2b6fc758156c578bd7b3b460e50caf82.jpg  \n",
      " extracting: train/img_310_png.rf.32694e25714967510311f8749337e1a8.jpg  \n",
      " extracting: train/img_312_png.rf.fe83e178d866fa5023a3f6203ee72401.jpg  \n",
      " extracting: train/img_313_png.rf.3ea325bbea1acff6671d4c95605a0cb8.jpg  \n",
      " extracting: train/img_314_png.rf.2dca0920beb3a9af27ac7e62349f7e80.jpg  \n",
      " extracting: train/img_315_png.rf.feb245ab8057eaa4d7d49d85dfd579ce.jpg  \n",
      " extracting: train/img_316_png.rf.002729e70fa43d51b34334cfb0fbbe05.jpg  \n",
      " extracting: train/img_317_png.rf.b672feef5f7ff3c70d19447414b90aa7.jpg  \n",
      " extracting: train/img_320_png.rf.e95c08eae84395138cc79b4f078f993e.jpg  \n",
      " extracting: train/img_321_png.rf.93e8f1b108452257e6c4c40077d72373.jpg  \n",
      " extracting: train/img_322_png.rf.f5ac07d0418aec7fdd4a3fba2650e2a5.jpg  \n",
      " extracting: train/img_323_png.rf.76a3be1415e9a82570199c6d8f598896.jpg  \n",
      " extracting: train/img_324_png.rf.2eccd416758634ca424c75d359d526d6.jpg  \n",
      " extracting: train/img_325_png.rf.8452f602c35af19a5e72840ffc1801e9.jpg  \n",
      " extracting: train/img_326_png.rf.85ffd3c2b75d82a9d0da6893a4baded1.jpg  \n",
      " extracting: train/img_327_png.rf.ae7a0ecde624f7c8ba76dff7536db762.jpg  \n",
      " extracting: train/img_328_png.rf.a27cee3bdc5abcb1ea3a22597c609075.jpg  \n",
      " extracting: train/img_32_png.rf.6051b8d5cec490d261120bca23e36204.jpg  \n",
      " extracting: train/img_331_png.rf.68e7e241b4eb2b4b0c76ee951d708bde.jpg  \n",
      " extracting: train/img_332_png.rf.ff6551cfe9be6bcf43533de9649f86f9.jpg  \n",
      " extracting: train/img_333_png.rf.183f9d3803aa86424dd437306998bce1.jpg  \n",
      " extracting: train/img_334_png.rf.09e758504013cc93930bc00fa3dea20d.jpg  \n",
      " extracting: train/img_335_png.rf.752bdec8886c0208f7de681a78acb1b0.jpg  \n",
      " extracting: train/img_336_png.rf.36ab4ffdf5c88262261b512efdfe0aea.jpg  \n",
      " extracting: train/img_337_png.rf.275ab9ca24d2ac401fc903fde12f3e62.jpg  \n",
      " extracting: train/img_339_png.rf.3fcb452066d11eb8afe6fde06ea2c242.jpg  \n",
      " extracting: train/img_33_png.rf.d6bc02e9b3a8755c1c12e8f38b32b402.jpg  \n",
      " extracting: train/img_341_png.rf.92ddc9134f92e4bb819a7a366ea09e2c.jpg  \n",
      " extracting: train/img_342_png.rf.bf92ea5c2e4ed3dc8a029735f76c30ee.jpg  \n",
      " extracting: train/img_344_png.rf.1a36bd1f06f9bf234ea6b660774e249a.jpg  \n",
      " extracting: train/img_345_png.rf.54eda48508e2c4d55e0980d253d9a5ea.jpg  \n",
      " extracting: train/img_34_png.rf.baea81d4cbd6ae4e6eb10fe7add785a7.jpg  \n",
      " extracting: train/img_36_png.rf.dab9ffd9c5ca5436a97e0ad9fe4972b9.jpg  \n",
      " extracting: train/img_37_png.rf.53113beb22e3843fdfbbb28f4c29016e.jpg  \n",
      " extracting: train/img_38_png.rf.b4da6b2e63429112f3c96fee3e859440.jpg  \n",
      " extracting: train/img_39_png.rf.618ce810e3bbd6d00a2ad8a3a93d4ea3.jpg  \n",
      " extracting: train/img_3_png.rf.4d14613e3b8916eba22d26aabf4b13dc.jpg  \n",
      " extracting: train/img_42_png.rf.cae86b39aa7efe68abf78c147ea2d886.jpg  \n",
      " extracting: train/img_44_png.rf.7eee3df345d86779a42ba40a3d62d6a5.jpg  \n",
      " extracting: train/img_45_png.rf.8030d0e905fe7fea4af6f4b77db35c85.jpg  \n",
      " extracting: train/img_46_png.rf.eeb302d1c70ddb197bfdb0764f0fb542.jpg  \n",
      " extracting: train/img_47_png.rf.d3e4f3788428b52101a91ebd4980fd8a.jpg  \n",
      " extracting: train/img_48_png.rf.d62cd205a75068c451e0c1ce0f23079f.jpg  \n",
      " extracting: train/img_4_png.rf.a37965a12624525a97ff06708cf70ba8.jpg  \n",
      " extracting: train/img_51_png.rf.d25ed0f1dbc1b57eb32d8daafd281c3e.jpg  \n",
      " extracting: train/img_52_png.rf.9ea72c469e6e4b1029ed11dfd89b733e.jpg  \n",
      " extracting: train/img_53_png.rf.d910b2202d8ff715ed96c39f04634fda.jpg  \n",
      " extracting: train/img_54_png.rf.03f0f86a18fea5ef38665f5f693fae98.jpg  \n",
      " extracting: train/img_56_png.rf.1fe9561b0c212a8d777eee5e39726474.jpg  \n",
      " extracting: train/img_57_png.rf.8e21e14967a3c8c4c6010a232331f7e4.jpg  \n",
      " extracting: train/img_59_png.rf.64c5fe2068c50149739de0662f779a97.jpg  \n",
      " extracting: train/img_5_png.rf.2c389a7f2ac5c0dadba909e5286132f4.jpg  \n",
      " extracting: train/img_60_png.rf.0b1bbf11c00fd9743b995fd306dffea2.jpg  \n",
      " extracting: train/img_61_png.rf.0ff06748a863bf2dee24b303494bf888.jpg  \n",
      " extracting: train/img_63_png.rf.40ad55a2b9189f50a7a3c3e85706640c.jpg  \n",
      " extracting: train/img_65_png.rf.fccfbea528ef2b748633dfd20a2726c7.jpg  \n",
      " extracting: train/img_66_png.rf.e4930299075c653eb96f2981a3ce5aef.jpg  \n",
      " extracting: train/img_67_png.rf.8224b73ccd127675eaf9a0200c0bd5e8.jpg  \n",
      " extracting: train/img_68_png.rf.352a07d5bf88749e084eb8f1e5cd1a0b.jpg  \n",
      " extracting: train/img_6_png.rf.01ba0bab364a1c8a76dd4ae84f95c953.jpg  \n",
      " extracting: train/img_70_png.rf.e8f7bea3b049e0c312d52eb89a7107e7.jpg  \n",
      " extracting: train/img_71_png.rf.5773c516e8ae21f949f57f3f0769b928.jpg  \n",
      " extracting: train/img_72_png.rf.cede7fc32a18c3813a191e3d9fc90f64.jpg  \n",
      " extracting: train/img_74_png.rf.7c9dc8dbfc5204f3430d368f28339efa.jpg  \n",
      " extracting: train/img_75_png.rf.0bb439c948b7bec407a87b6c0424d8b3.jpg  \n",
      " extracting: train/img_76_png.rf.22005f75c3993299abce7a6133231f8b.jpg  \n",
      " extracting: train/img_77_png.rf.f16476744597c15c0673cf7233224cd6.jpg  \n",
      " extracting: train/img_79_png.rf.9a0fe6490a1d625ade5033a4f01f942d.jpg  \n",
      " extracting: train/img_80_png.rf.8caa4383f0ae990e139e0ea14d436833.jpg  \n",
      " extracting: train/img_81_png.rf.64a335e04f9072b399c9ee014928ed3d.jpg  \n",
      " extracting: train/img_82_png.rf.fb056e0c4e1bb2e44c26efea4241a97b.jpg  \n",
      " extracting: train/img_83_png.rf.1d8da67e2bf8aa1e9f5e1c412be03c3f.jpg  \n",
      " extracting: train/img_85_png.rf.7acee725f853cd1a0d2df81188a66c03.jpg  \n",
      " extracting: train/img_86_png.rf.a59c87cd6a492d8c389b51c17b87b99d.jpg  \n",
      " extracting: train/img_87_png.rf.9c36474c20fc3b72ee1af4af3da01d7e.jpg  \n",
      " extracting: train/img_8_png.rf.b06e8e2253213e965c8bdb66bc251acc.jpg  \n",
      " extracting: train/img_90_png.rf.cd944d7c010c307c5fa604f135d2f596.jpg  \n",
      " extracting: train/img_92_png.rf.56bb099ddca1aad9076b7f94ecb0686c.jpg  \n",
      " extracting: train/img_93_png.rf.b9d4d2269030547b9c433c37a90e64f0.jpg  \n",
      " extracting: train/img_94_png.rf.fe54bcf42a2ca60e1e85bbca8f9f76ec.jpg  \n",
      " extracting: train/img_95_png.rf.6d48ee949d26887ef0ef7583d1066e58.jpg  \n",
      " extracting: train/img_96_png.rf.2d58b114d3b456b01a4a05654a0283fc.jpg  \n",
      " extracting: train/img_97_png.rf.762c10ad6ff9ed8c482531966ebdd795.jpg  \n",
      " extracting: train/img_99_png.rf.f83f03d4c68aefdeeca7d491899be883.jpg  \n",
      " extracting: train/img_9_png.rf.c5ac391dbb5ed169d068374d5bd43adb.jpg  \n",
      "   creating: valid/\n",
      " extracting: valid/_annotations.coco.json  \n",
      " extracting: valid/img_101_png.rf.55011a0a348a854b2cf11c2b03555c23.jpg  \n",
      " extracting: valid/img_102_png.rf.bce576891949865a8302d8d4e6959265.jpg  \n",
      " extracting: valid/img_107_png.rf.777e1a7b477249454148fab01c59f762.jpg  \n",
      " extracting: valid/img_108_png.rf.15b64dad6a2862ca3f76d96be1f09d38.jpg  \n",
      " extracting: valid/img_110_png.rf.457701dc5337beed3022ff57039e045f.jpg  \n",
      " extracting: valid/img_116_png.rf.1d0657ec7505d7411adecf3adbbfcf99.jpg  \n",
      " extracting: valid/img_117_png.rf.c5ef24bb7aa1df2750ca4f55e377ef4e.jpg  \n",
      " extracting: valid/img_120_png.rf.efeda230f87d6064bbea8cd60f9bc6c8.jpg  \n",
      " extracting: valid/img_121_png.rf.1fe43b9d538c5697b0212ea408377eed.jpg  \n",
      " extracting: valid/img_128_png.rf.3bb29b9eab916c3f6a57ddaf1afa7556.jpg  \n",
      " extracting: valid/img_134_png.rf.d6d3166deb812b3443b90f0ec692b659.jpg  \n",
      " extracting: valid/img_144_png.rf.dff9d3babafce3c4f589439fd58bf262.jpg  \n",
      " extracting: valid/img_152_png.rf.b564035d39d585e7d58767e8024910bc.jpg  \n",
      " extracting: valid/img_153_png.rf.6a3493ad84016f42eb1854bce15dfe94.jpg  \n",
      " extracting: valid/img_156_png.rf.64053e97935206505036a7959498f502.jpg  \n",
      " extracting: valid/img_158_png.rf.d497fd8783a287b1e5e9105ea54a04ea.jpg  \n",
      " extracting: valid/img_15_png.rf.e87de0d3d5cae9feff815fb93c904c3f.jpg  \n",
      " extracting: valid/img_160_png.rf.91e70af1fdfcda5017ae6d28caf82ed8.jpg  \n",
      " extracting: valid/img_165_png.rf.dd7ff3c0260fc97f46647a48b53e43c8.jpg  \n",
      " extracting: valid/img_169_png.rf.3c8644d178b9c5df977f918bf220b1f7.jpg  \n",
      " extracting: valid/img_175_png.rf.fb2e04df6939dbcdf606692325370f61.jpg  \n",
      " extracting: valid/img_180_png.rf.6473f753c5dc3e080269de02c3ee34dd.jpg  \n",
      " extracting: valid/img_183_png.rf.91b95ca7f8f0946ac7cdb37f36218b20.jpg  \n",
      " extracting: valid/img_189_png.rf.09bc89fdf2488d3a9a5d95b04408466f.jpg  \n",
      " extracting: valid/img_192_png.rf.662eb2a045ecf5c6f1be88390270c6a4.jpg  \n",
      " extracting: valid/img_200_png.rf.563528d4ef8cfd0bd797cdf59eac20a3.jpg  \n",
      " extracting: valid/img_201_png.rf.f7abfb5b1414a8a8463a5a74005bd444.jpg  \n",
      " extracting: valid/img_214_png.rf.b610ee5af16f09faecfd6c029e641ecf.jpg  \n",
      " extracting: valid/img_216_png.rf.4867b817c87cdc5046e042ad0507fde6.jpg  \n",
      " extracting: valid/img_218_png.rf.3e50fc07a0566d21d3793a97646aca3f.jpg  \n",
      " extracting: valid/img_221_png.rf.f576049c85332658662c2ba6d7d7044d.jpg  \n",
      " extracting: valid/img_224_png.rf.d34f1ec8a0ad00c4c50527fc23f7dded.jpg  \n",
      " extracting: valid/img_225_png.rf.a1485fa63e42e3391803d5115ba7516f.jpg  \n",
      " extracting: valid/img_229_png.rf.6c4502948220427c45d36e8e000f7b73.jpg  \n",
      " extracting: valid/img_232_png.rf.d76d4f4e3f72f00c658b9ca07ef5c658.jpg  \n",
      " extracting: valid/img_234_png.rf.fe527f7b883408a52de56510ae080004.jpg  \n",
      " extracting: valid/img_239_png.rf.76395d39abe44f62e8a518ce75762786.jpg  \n",
      " extracting: valid/img_23_png.rf.88476ddf747a3081a2f1d4309ac5d13a.jpg  \n",
      " extracting: valid/img_241_png.rf.c1211c9506492c8be5ca5df80873899e.jpg  \n",
      " extracting: valid/img_243_png.rf.fe595823b3d8f87f51bbccea615d42df.jpg  \n",
      " extracting: valid/img_244_png.rf.63591a8f76ef8c2f1f17b229c9afafce.jpg  \n",
      " extracting: valid/img_245_png.rf.b15d84dd329dbcf0d08a350c68babf85.jpg  \n",
      " extracting: valid/img_24_png.rf.98f5569137fca1bc5aab7657bacdb470.jpg  \n",
      " extracting: valid/img_254_png.rf.da718cf6b4c400cf53aa7b3f50f6afe7.jpg  \n",
      " extracting: valid/img_259_png.rf.c7c88723e8d0a9d8aa20850bd0ce2b70.jpg  \n",
      " extracting: valid/img_25_png.rf.0a0dc9cdd97fbaa9d2db84affff37376.jpg  \n",
      " extracting: valid/img_267_png.rf.a4c98597a47c1c352b646c1522f09eca.jpg  \n",
      " extracting: valid/img_271_png.rf.468ac3d13f0a77acc18c99967ec1da09.jpg  \n",
      " extracting: valid/img_278_png.rf.8f43443424aa055491c4c443ad80fa7f.jpg  \n",
      " extracting: valid/img_27_png.rf.304489cf85399ecf3074211654fa9868.jpg  \n",
      " extracting: valid/img_284_png.rf.c7d31f9df142a8c1caa315988bf70bfb.jpg  \n",
      " extracting: valid/img_291_png.rf.069a767eba693561a8df8ca9d1854f1b.jpg  \n",
      " extracting: valid/img_293_png.rf.dd1c5e9312b69c28e516ab9dcd6325d6.jpg  \n",
      " extracting: valid/img_294_png.rf.ed3d7f851ca818196616369618b8118d.jpg  \n",
      " extracting: valid/img_295_png.rf.164b6bc9b2e2e5cc4ee6217c1dc41bd2.jpg  \n",
      " extracting: valid/img_2_png.rf.c26e1fee73d3e922c0bdd163e7567358.jpg  \n",
      " extracting: valid/img_319_png.rf.e587d5c9392ebe31285a71770ea73383.jpg  \n",
      " extracting: valid/img_31_png.rf.88c8894582011f968eac9a0dddec3fdc.jpg  \n",
      " extracting: valid/img_329_png.rf.bd379584904a07ddc667a8beec6dcf5d.jpg  \n",
      " extracting: valid/img_338_png.rf.d789ae5c37eaf205ecbdded503068099.jpg  \n",
      " extracting: valid/img_35_png.rf.fb3195201f25e1946601ead096b30f09.jpg  \n",
      " extracting: valid/img_40_png.rf.466b0df96f606f9cf36b53da5deda77c.jpg  \n",
      " extracting: valid/img_43_png.rf.9f4760c5525f46429761a7e76610246f.jpg  \n",
      " extracting: valid/img_49_png.rf.3435e94c1f53684626f84b5796078226.jpg  \n",
      " extracting: valid/img_55_png.rf.099e72d8a998a22e4f982ea491950b07.jpg  \n",
      " extracting: valid/img_58_png.rf.9e7e94c59afd12023fed9b8c39a1012a.jpg  \n",
      " extracting: valid/img_62_png.rf.7d2358d9d45f7cfacb4e17e920571552.jpg  \n",
      " extracting: valid/img_64_png.rf.aea877fc1120ea17f6c26872bda313e0.jpg  \n",
      " extracting: valid/img_69_png.rf.b5410c873f5bda9bd133d20a7cb6c368.jpg  \n",
      " extracting: valid/img_73_png.rf.e2d609d12dec0e327ebc1a0dc77d0752.jpg  \n",
      " extracting: valid/img_78_png.rf.9eb8782df23f896ab41ad1ae37598968.jpg  \n",
      " extracting: valid/img_84_png.rf.9082a334d571483a360ae929a3a75d46.jpg  \n",
      " extracting: valid/img_88_png.rf.4b1481dc0e268793f6a139c67f0b8504.jpg  \n",
      " extracting: valid/img_89_png.rf.9d3b0a27285c6f81e823ccf346c15b24.jpg  \n",
      " extracting: valid/img_91_png.rf.c826b2fdf28b8f583fa667ac65dfb517.jpg  \n",
      "Looking in indexes: https://pypi.org/simple, https://us-python.pkg.dev/colab-wheels/public/simple/\n",
      "Requirement already satisfied: pycocotools in /usr/local/lib/python3.8/dist-packages (2.0.6)\n",
      "Requirement already satisfied: numpy in /usr/local/lib/python3.8/dist-packages (from pycocotools) (1.21.6)\n",
      "Requirement already satisfied: matplotlib>=2.1.0 in /usr/local/lib/python3.8/dist-packages (from pycocotools) (3.2.2)\n",
      "Requirement already satisfied: python-dateutil>=2.1 in /usr/local/lib/python3.8/dist-packages (from matplotlib>=2.1.0->pycocotools) (2.8.2)\n",
      "Requirement already satisfied: cycler>=0.10 in /usr/local/lib/python3.8/dist-packages (from matplotlib>=2.1.0->pycocotools) (0.11.0)\n",
      "Requirement already satisfied: pyparsing!=2.0.4,!=2.1.2,!=2.1.6,>=2.0.1 in /usr/local/lib/python3.8/dist-packages (from matplotlib>=2.1.0->pycocotools) (3.0.9)\n",
      "Requirement already satisfied: kiwisolver>=1.0.1 in /usr/local/lib/python3.8/dist-packages (from matplotlib>=2.1.0->pycocotools) (1.4.4)\n",
      "Requirement already satisfied: six>=1.5 in /usr/local/lib/python3.8/dist-packages (from python-dateutil>=2.1->matplotlib>=2.1.0->pycocotools) (1.15.0)\n",
      "Looking in indexes: https://pypi.org/simple, https://us-python.pkg.dev/colab-wheels/public/simple/\n",
      "Requirement already satisfied: gdown in /usr/local/lib/python3.8/dist-packages (4.4.0)\n",
      "Requirement already satisfied: six in /usr/local/lib/python3.8/dist-packages (from gdown) (1.15.0)\n",
      "Requirement already satisfied: tqdm in /usr/local/lib/python3.8/dist-packages (from gdown) (4.64.1)\n",
      "Requirement already satisfied: beautifulsoup4 in /usr/local/lib/python3.8/dist-packages (from gdown) (4.6.3)\n",
      "Requirement already satisfied: filelock in /usr/local/lib/python3.8/dist-packages (from gdown) (3.9.0)\n",
      "Requirement already satisfied: requests[socks] in /usr/local/lib/python3.8/dist-packages (from gdown) (2.25.1)\n",
      "Requirement already satisfied: idna<3,>=2.5 in /usr/local/lib/python3.8/dist-packages (from requests[socks]->gdown) (2.10)\n",
      "Requirement already satisfied: certifi>=2017.4.17 in /usr/local/lib/python3.8/dist-packages (from requests[socks]->gdown) (2022.12.7)\n",
      "Requirement already satisfied: chardet<5,>=3.0.2 in /usr/local/lib/python3.8/dist-packages (from requests[socks]->gdown) (4.0.0)\n",
      "Requirement already satisfied: urllib3<1.27,>=1.21.1 in /usr/local/lib/python3.8/dist-packages (from requests[socks]->gdown) (1.24.3)\n",
      "Requirement already satisfied: PySocks!=1.5.7,>=1.5.6 in /usr/local/lib/python3.8/dist-packages (from requests[socks]->gdown) (1.7.1)\n"
     ]
    }
   ],
   "source": [
    "import torch\n",
    "import os\n",
    "import os\n",
    "import cv2\n",
    "import numpy as np\n",
    "from pycocotools.coco import COCO\n",
    "from torch.utils.data import Dataset, DataLoader\n",
    "from albumentations.pytorch import ToTensorV2\n",
    "from tqdm import tqdm\n",
    "import matplotlib.pyplot as plt\n",
    "!mkdir dataset\n",
    "os.chdir(\"./dataset\")\n",
    "!curl -L \"https://universe.roboflow.com/ds/qsAqxl1yWz?key=cc6BA6xJi0\" > roboflow.zip; unzip roboflow.zip; rm roboflow.zip\n",
    "!pip install pycocotools\n",
    "!pip install gdown"
   ]
  },
  {
   "cell_type": "markdown",
   "metadata": {
    "id": "Ba-6X_qQMG6d"
   },
   "source": [
    "## Settings"
   ]
  },
  {
   "cell_type": "code",
   "execution_count": null,
   "metadata": {
    "id": "d1PiIviDc1p2"
   },
   "outputs": [],
   "source": [
    "os.chdir(\"../\")\n",
    "import warnings\n",
    "warnings.filterwarnings(\"ignore\")\n",
    "DEVICE = \"cuda\" if torch.cuda.is_available() else \"cpu\"\n",
    "LEARNING_RATE = 1e-5\n",
    "WEIGHT_DECAY = 5e-4\n",
    "BATCH_SIZE = 8\n",
    "NUM_EPOCHS = 30\n",
    "NUM_WORKERS = 4\n",
    "CHECKPOINT_FILE = \"Best.pth.tar\"\n",
    "PIN_MEMORY = True\n",
    "SAVE_MODEL = False\n",
    "LOAD_MODEL = False\n",
    "TRAIN_DIR = './dataset/train'\n",
    "VALID_DIR = './dataset/valid'\n",
    "TEST_DIR = './dataset/test'\n",
    "IMAGE_SIZE = [1152,648]"
   ]
  },
  {
   "cell_type": "markdown",
   "metadata": {
    "id": "McR1BFjKMljL"
   },
   "source": [
    "# Dataset"
   ]
  },
  {
   "cell_type": "code",
   "execution_count": null,
   "metadata": {
    "id": "nCRdKYYIdG44"
   },
   "outputs": [],
   "source": [
    "class CCDataset(Dataset):\n",
    "  def __init__(self, mode = 'train', augmentation=None):\n",
    "    if mode == 'train':\n",
    "      self.dataset_path = TRAIN_DIR\n",
    "      ann_path = os.path.join(TRAIN_DIR, '_annotations.coco.json')\n",
    "    if mode == 'valid':\n",
    "      self.dataset_path = VALID_DIR\n",
    "      ann_path = os.path.join(VALID_DIR, '_annotations.coco.json')\n",
    "    if mode == 'test':\n",
    "      self.dataset_path = TEST_DIR\n",
    "      ann_path = os.path.join(TEST_DIR, '_annotations.coco.json')\n",
    "    \n",
    "    self.coco = COCO(ann_path)\n",
    "    self.cat_ids = self.coco.getCatIds()\n",
    "    self.augmentation=augmentation\n",
    "\n",
    "  def __len__(self):\n",
    "      return len(self.coco.imgs)\n",
    "  \n",
    "  def get_masks(self, index):\n",
    "      ann_ids = self.coco.getAnnIds([index])\n",
    "      anns = self.coco.loadAnns(ann_ids)\n",
    "      masks=[]\n",
    "\n",
    "      for ann in anns:\n",
    "            mask = self.coco.annToMask(ann)\n",
    "            masks.append(mask)\n",
    "\n",
    "      return masks\n",
    "\n",
    "  def get_boxes(self, masks):\n",
    "      num_objs = len(masks)\n",
    "      boxes = []\n",
    "\n",
    "      for i in range(num_objs):\n",
    "          x,y,w,h = cv2.boundingRect(masks[i])\n",
    "          boxes.append([x, y, x+w, y+h])\n",
    "\n",
    "      return np.array(boxes)\n",
    "\n",
    "  def __getitem__(self, index):\n",
    "      # Load image\n",
    "      img_info = self.coco.loadImgs([index])[0]\n",
    "      image = cv2.imread(os.path.join(self.dataset_path,\n",
    "                                    img_info['file_name']))\n",
    "      masks = self.get_masks(index)\n",
    "\n",
    "      if self.augmentation:\n",
    "        augmented = self.augmentation(image=image, masks=masks)\n",
    "        image, masks = augmented['image'], augmented['masks']\n",
    "\n",
    "      image = image.transpose(2,0,1) / 255.\n",
    "\n",
    "      # Load masks\n",
    "      masks = np.array(masks)\n",
    "      boxes = self.get_boxes(masks)\n",
    "\n",
    "      # Create target dict\n",
    "      num_objs = len(masks)\n",
    "      boxes = torch.as_tensor(boxes, dtype=torch.float32)\n",
    "      labels = torch.ones((num_objs,), dtype=torch.int64)\n",
    "      masks = torch.as_tensor(masks, dtype=torch.uint8)\n",
    "      image = torch.as_tensor(image, dtype=torch.float32)\n",
    "      data = {}\n",
    "      data[\"boxes\"] =  boxes\n",
    "      data[\"labels\"] = labels\n",
    "      data[\"masks\"] = masks\n",
    "\n",
    "      return image, data"
   ]
  },
  {
   "cell_type": "code",
   "execution_count": null,
   "metadata": {
    "id": "ng_1Du3EdHkK"
   },
   "outputs": [],
   "source": [
    "# To bypass shape errors\n",
    "# Images contain different number of instances\n",
    "def collate_fn(batch):\n",
    "  images = list()\n",
    "  targets = list()\n",
    "  for b in batch:\n",
    "        images.append(b[0])\n",
    "        targets.append(b[1])\n",
    "  images = torch.stack(images, dim=0)\n",
    "  return images, targets"
   ]
  },
  {
   "cell_type": "markdown",
   "metadata": {
    "id": "JutigjxIM4Xx"
   },
   "source": [
    "## transform"
   ]
  },
  {
   "cell_type": "code",
   "execution_count": null,
   "metadata": {
    "id": "9gpwL8htdMP3"
   },
   "outputs": [],
   "source": [
    "import albumentations as A\n",
    "transform = A.Compose([\n",
    "    A.HorizontalFlip(p=0.5),\n",
    "    A.VerticalFlip(p=0.5),\n",
    "    A.RandomBrightnessContrast(\n",
    "        contrast_limit=0.2, brightness_limit=0.3, p=0.5),\n",
    "    A.OneOf([\n",
    "        A.ImageCompression(p=0.8),\n",
    "        A.RandomGamma(p=0.8),\n",
    "        A.Blur(p=0.8),\n",
    "        A.Equalize(mode='cv',p=0.8)\n",
    "    ], p=1.0),\n",
    "    A.OneOf([\n",
    "        A.ImageCompression(p=0.8),\n",
    "        A.RandomGamma(p=0.8),\n",
    "        A.Blur(p=0.8),\n",
    "        A.Equalize(mode='cv',p=0.8),\n",
    "    ], p=1.0)\n",
    "])"
   ]
  },
  {
   "cell_type": "markdown",
   "metadata": {
    "id": "fji0WQ_TNGP_"
   },
   "source": [
    "# Model"
   ]
  },
  {
   "cell_type": "markdown",
   "metadata": {
    "id": "kRFSxPUZNInB"
   },
   "source": [
    "## Functions"
   ]
  },
  {
   "cell_type": "code",
   "execution_count": null,
   "metadata": {
    "id": "F_B03cXYdOD5"
   },
   "outputs": [],
   "source": [
    "import torch\n",
    "from tqdm import tqdm\n",
    "from torchvision.models.detection import maskrcnn_resnet50_fpn\n",
    "from torchvision.models.detection.faster_rcnn import FastRCNNPredictor"
   ]
  },
  {
   "cell_type": "code",
   "execution_count": null,
   "metadata": {
    "id": "EdqDD8sadQ0X"
   },
   "outputs": [],
   "source": [
    "def get_model():\n",
    "    model = maskrcnn_resnet50_fpn(pretrained=True)\n",
    "    in_features = model.roi_heads.box_predictor.cls_score.in_features\n",
    "    model.roi_heads.box_predictor = FastRCNNPredictor(\n",
    "            in_features, num_classes=1+1)\n",
    "    model.to(DEVICE)\n",
    "    \n",
    "    return model"
   ]
  },
  {
   "cell_type": "code",
   "execution_count": null,
   "metadata": {
    "id": "Drro1fXBdUHm"
   },
   "outputs": [],
   "source": [
    "def save_checkpoint(state, filename=\"mask_rcnn.pth.tar\"):\n",
    "    print(\"=> Saving checkpoint\")\n",
    "    torch.save(state, filename)"
   ]
  },
  {
   "cell_type": "code",
   "execution_count": null,
   "metadata": {
    "id": "dFUXowb6dXJ2"
   },
   "outputs": [],
   "source": [
    "def load_checkpoint(checkpoint, model, optimizer, lr):\n",
    "    print(\"=> Loading checkpoint\")\n",
    "    model.load_state_dict(checkpoint[\"state_dict\"])\n",
    "    #optimizer.load_state_dict(checkpoint[\"optimizer\"])\n",
    "\n",
    "    # If we don't do this then it will just have learning rate of old checkpoint\n",
    "    # and it will lead to many hours of debugging \\:\n",
    "    for param_group in optimizer.param_groups:\n",
    "        param_group[\"lr\"] = lr"
   ]
  },
  {
   "cell_type": "code",
   "execution_count": null,
   "metadata": {
    "id": "ZwKUprI6NXrR"
   },
   "outputs": [],
   "source": [
    "def train_one_epoch(loader, model, optimizer, device):\n",
    "    loop = tqdm(loader)\n",
    "\n",
    "    for batch_idx, (images, targets) in enumerate(loop):\n",
    "        images = list(image.to(device) for image in images)\n",
    "        targets = [{k: v.to(device) for k, v in t.items()} for t in targets]\n",
    "        \n",
    "        loss_dict = model(images, targets)\n",
    "        losses = sum(loss for loss in loss_dict.values())\n",
    "\n",
    "        optimizer.zero_grad()\n",
    "        losses.backward()\n",
    "        optimizer.step()\n",
    "\n",
    "    \n",
    "\n",
    "    print(f\"Total loss: {losses.item()}\")"
   ]
  },
  {
   "cell_type": "code",
   "execution_count": null,
   "metadata": {
    "id": "hCh0m3dTNacG"
   },
   "outputs": [],
   "source": [
    "best_vloss = np.inf\n",
    "def validate(loader, model, optimizer, device, epoch):\n",
    "    global best_vloss\n",
    "    loop = tqdm(loader)\n",
    "    running_vloss = 0\n",
    "    for batch_idx, (images, targets) in enumerate(loop):\n",
    "        images = list(image.to(device) for image in images)\n",
    "        targets = [{k: v.to(device) for k, v in t.items()} for t in targets]\n",
    "        \n",
    "        with torch.no_grad():\n",
    "          loss_dict = model(images, targets)\n",
    "        \n",
    "        losses = sum(loss for loss in loss_dict.values())\n",
    "        running_vloss += losses\n",
    "        \n",
    "    avg_vloss = running_vloss / (batch_idx + 1)\n",
    "    \n",
    "    print(f\"Avg Valid Loss: {avg_vloss}\")\n",
    "    if avg_vloss < best_vloss:\n",
    "      best_vloss = avg_vloss\n",
    "      if SAVE_MODEL:\n",
    "            print(\"Model improved, saving...\")\n",
    "            checkpoint = {\n",
    "                \"state_dict\": model.state_dict(),\n",
    "                \"optimizer\": optimizer.state_dict(),\n",
    "            }\n",
    "            save_checkpoint(checkpoint, filename=f\"1152KaggleBest_second_{epoch}.pth.tar\")\n",
    "    print('\\n')\n",
    "    return avg_vloss"
   ]
  },
  {
   "cell_type": "markdown",
   "metadata": {
    "id": "y2GfEEXmNP7P"
   },
   "source": [
    "## Data Loader"
   ]
  },
  {
   "cell_type": "code",
   "execution_count": null,
   "metadata": {
    "colab": {
     "base_uri": "https://localhost:8080/"
    },
    "id": "T-S8mFP7daEu",
    "outputId": "14e6c5a1-2918-46a0-8505-6b9a5dbb2f89"
   },
   "outputs": [
    {
     "name": "stdout",
     "output_type": "stream",
     "text": [
      "loading annotations into memory...\n",
      "Done (t=0.01s)\n",
      "creating index...\n",
      "index created!\n",
      "loading annotations into memory...\n",
      "Done (t=0.01s)\n",
      "creating index...\n",
      "index created!\n"
     ]
    }
   ],
   "source": [
    "train_dataset = CCDataset(mode='train', augmentation=transform)\n",
    "train_loader = DataLoader(dataset=train_dataset,\n",
    "                              batch_size=BATCH_SIZE,\n",
    "                              shuffle=True,\n",
    "                              num_workers=2,\n",
    "                              pin_memory=PIN_MEMORY,\n",
    "                              collate_fn=collate_fn)\n",
    "\n",
    "valid_dataset = CCDataset(mode='valid')\n",
    "valid_loader = DataLoader(dataset=valid_dataset,\n",
    "                              batch_size=BATCH_SIZE,\n",
    "                              shuffle=False,\n",
    "                              pin_memory=PIN_MEMORY,\n",
    "                              collate_fn=collate_fn)"
   ]
  },
  {
   "cell_type": "markdown",
   "metadata": {
    "id": "lfIntiViN8vK"
   },
   "source": [
    "## Start training"
   ]
  },
  {
   "cell_type": "code",
   "execution_count": null,
   "metadata": {
    "colab": {
     "base_uri": "https://localhost:8080/",
     "height": 1000,
     "referenced_widgets": [
      "c6dcec9d20b24a05a7af407b4b08cef8",
      "707bc834692145cfb20fef5709ec9ff0",
      "363777814d10441f8f8c17da414642ae",
      "4048ab22f90245d280ea15c8c52baf6b",
      "32be7fb0cec14302b7b70e4bb4474aea",
      "c59ed527ae4640fda6dd63fee001ebd2",
      "763962acd39e48a19cd885fb30c30abb",
      "2c47ca7cac88405b81bf4caaaad63a50",
      "e3c677edd6c845e69a23f1ffeb9e65bc",
      "7b77dcf80a724b23a54d46e3ec0bda58",
      "bdaf9d65105e4027a5b029b4e2daa49a"
     ]
    },
    "id": "DS0Mi81rdgsY",
    "outputId": "441e086b-c1f9-4513-824d-a70554f29298"
   },
   "outputs": [
    {
     "name": "stderr",
     "output_type": "stream",
     "text": [
      "Downloading: \"https://download.pytorch.org/models/maskrcnn_resnet50_fpn_coco-bf2d0c1e.pth\" to /root/.cache/torch/hub/checkpoints/maskrcnn_resnet50_fpn_coco-bf2d0c1e.pth\n"
     ]
    },
    {
     "data": {
      "application/vnd.jupyter.widget-view+json": {
       "model_id": "c6dcec9d20b24a05a7af407b4b08cef8",
       "version_major": 2,
       "version_minor": 0
      },
      "text/plain": [
       "  0%|          | 0.00/170M [00:00<?, ?B/s]"
      ]
     },
     "metadata": {},
     "output_type": "display_data"
    },
    {
     "name": "stdout",
     "output_type": "stream",
     "text": [
      "Epoch: 0\n"
     ]
    },
    {
     "name": "stderr",
     "output_type": "stream",
     "text": [
      "100%|██████████| 38/38 [00:23<00:00,  1.65it/s]\n"
     ]
    },
    {
     "name": "stdout",
     "output_type": "stream",
     "text": [
      "Total loss: 0.526561975479126\n"
     ]
    },
    {
     "name": "stderr",
     "output_type": "stream",
     "text": [
      "100%|██████████| 10/10 [00:03<00:00,  2.64it/s]\n"
     ]
    },
    {
     "name": "stdout",
     "output_type": "stream",
     "text": [
      "Avg Valid Loss: 0.577857255935669\n",
      "\n",
      "\n",
      "Epoch: 1\n"
     ]
    },
    {
     "name": "stderr",
     "output_type": "stream",
     "text": [
      "100%|██████████| 38/38 [00:15<00:00,  2.52it/s]\n"
     ]
    },
    {
     "name": "stdout",
     "output_type": "stream",
     "text": [
      "Total loss: 0.5471883416175842\n"
     ]
    },
    {
     "name": "stderr",
     "output_type": "stream",
     "text": [
      "100%|██████████| 10/10 [00:03<00:00,  2.65it/s]\n"
     ]
    },
    {
     "name": "stdout",
     "output_type": "stream",
     "text": [
      "Avg Valid Loss: 0.3765439987182617\n",
      "\n",
      "\n",
      "Epoch: 2\n"
     ]
    },
    {
     "name": "stderr",
     "output_type": "stream",
     "text": [
      "100%|██████████| 38/38 [00:15<00:00,  2.51it/s]\n"
     ]
    },
    {
     "name": "stdout",
     "output_type": "stream",
     "text": [
      "Total loss: 0.31462401151657104\n"
     ]
    },
    {
     "name": "stderr",
     "output_type": "stream",
     "text": [
      "100%|██████████| 10/10 [00:03<00:00,  2.63it/s]\n"
     ]
    },
    {
     "name": "stdout",
     "output_type": "stream",
     "text": [
      "Avg Valid Loss: 0.3229812681674957\n",
      "\n",
      "\n",
      "Epoch: 3\n"
     ]
    },
    {
     "name": "stderr",
     "output_type": "stream",
     "text": [
      "100%|██████████| 38/38 [00:15<00:00,  2.51it/s]\n"
     ]
    },
    {
     "name": "stdout",
     "output_type": "stream",
     "text": [
      "Total loss: 0.31913185119628906\n"
     ]
    },
    {
     "name": "stderr",
     "output_type": "stream",
     "text": [
      "100%|██████████| 10/10 [00:03<00:00,  2.62it/s]\n"
     ]
    },
    {
     "name": "stdout",
     "output_type": "stream",
     "text": [
      "Avg Valid Loss: 0.28875789046287537\n",
      "\n",
      "\n",
      "Epoch: 4\n"
     ]
    },
    {
     "name": "stderr",
     "output_type": "stream",
     "text": [
      "100%|██████████| 38/38 [00:14<00:00,  2.53it/s]\n"
     ]
    },
    {
     "name": "stdout",
     "output_type": "stream",
     "text": [
      "Total loss: 0.20269134640693665\n"
     ]
    },
    {
     "name": "stderr",
     "output_type": "stream",
     "text": [
      "100%|██████████| 10/10 [00:03<00:00,  2.67it/s]\n"
     ]
    },
    {
     "name": "stdout",
     "output_type": "stream",
     "text": [
      "Avg Valid Loss: 0.27000173926353455\n",
      "\n",
      "\n",
      "Epoch: 5\n"
     ]
    },
    {
     "name": "stderr",
     "output_type": "stream",
     "text": [
      "100%|██████████| 38/38 [00:15<00:00,  2.52it/s]\n"
     ]
    },
    {
     "name": "stdout",
     "output_type": "stream",
     "text": [
      "Total loss: 0.28099292516708374\n"
     ]
    },
    {
     "name": "stderr",
     "output_type": "stream",
     "text": [
      "100%|██████████| 10/10 [00:03<00:00,  2.62it/s]\n"
     ]
    },
    {
     "name": "stdout",
     "output_type": "stream",
     "text": [
      "Avg Valid Loss: 0.27243462204933167\n",
      "\n",
      "\n",
      "Epoch: 6\n"
     ]
    },
    {
     "name": "stderr",
     "output_type": "stream",
     "text": [
      "100%|██████████| 38/38 [00:15<00:00,  2.52it/s]\n"
     ]
    },
    {
     "name": "stdout",
     "output_type": "stream",
     "text": [
      "Total loss: 0.2975877821445465\n"
     ]
    },
    {
     "name": "stderr",
     "output_type": "stream",
     "text": [
      "100%|██████████| 10/10 [00:03<00:00,  2.62it/s]\n"
     ]
    },
    {
     "name": "stdout",
     "output_type": "stream",
     "text": [
      "Avg Valid Loss: 0.2585557699203491\n",
      "\n",
      "\n",
      "Epoch: 7\n"
     ]
    },
    {
     "name": "stderr",
     "output_type": "stream",
     "text": [
      "100%|██████████| 38/38 [00:15<00:00,  2.52it/s]\n"
     ]
    },
    {
     "name": "stdout",
     "output_type": "stream",
     "text": [
      "Total loss: 0.1763504296541214\n"
     ]
    },
    {
     "name": "stderr",
     "output_type": "stream",
     "text": [
      "100%|██████████| 10/10 [00:03<00:00,  2.63it/s]\n"
     ]
    },
    {
     "name": "stdout",
     "output_type": "stream",
     "text": [
      "Avg Valid Loss: 0.250700443983078\n",
      "\n",
      "\n",
      "Epoch: 8\n"
     ]
    },
    {
     "name": "stderr",
     "output_type": "stream",
     "text": [
      "100%|██████████| 38/38 [00:15<00:00,  2.52it/s]\n"
     ]
    },
    {
     "name": "stdout",
     "output_type": "stream",
     "text": [
      "Total loss: 0.24043013155460358\n"
     ]
    },
    {
     "name": "stderr",
     "output_type": "stream",
     "text": [
      "100%|██████████| 10/10 [00:03<00:00,  2.64it/s]\n"
     ]
    },
    {
     "name": "stdout",
     "output_type": "stream",
     "text": [
      "Avg Valid Loss: 0.2495812475681305\n",
      "\n",
      "\n",
      "Epoch: 9\n"
     ]
    },
    {
     "name": "stderr",
     "output_type": "stream",
     "text": [
      "100%|██████████| 38/38 [00:15<00:00,  2.51it/s]\n"
     ]
    },
    {
     "name": "stdout",
     "output_type": "stream",
     "text": [
      "Total loss: 0.19931788742542267\n"
     ]
    },
    {
     "name": "stderr",
     "output_type": "stream",
     "text": [
      "100%|██████████| 10/10 [00:03<00:00,  2.63it/s]\n"
     ]
    },
    {
     "name": "stdout",
     "output_type": "stream",
     "text": [
      "Avg Valid Loss: 0.2349766045808792\n",
      "\n",
      "\n",
      "Epoch: 10\n"
     ]
    },
    {
     "name": "stderr",
     "output_type": "stream",
     "text": [
      "100%|██████████| 38/38 [00:15<00:00,  2.49it/s]\n"
     ]
    },
    {
     "name": "stdout",
     "output_type": "stream",
     "text": [
      "Total loss: 0.19346323609352112\n"
     ]
    },
    {
     "name": "stderr",
     "output_type": "stream",
     "text": [
      "100%|██████████| 10/10 [00:03<00:00,  2.65it/s]\n"
     ]
    },
    {
     "name": "stdout",
     "output_type": "stream",
     "text": [
      "Avg Valid Loss: 0.23915250599384308\n",
      "\n",
      "\n",
      "Epoch: 11\n"
     ]
    },
    {
     "name": "stderr",
     "output_type": "stream",
     "text": [
      "100%|██████████| 38/38 [00:15<00:00,  2.51it/s]\n"
     ]
    },
    {
     "name": "stdout",
     "output_type": "stream",
     "text": [
      "Total loss: 0.21433904767036438\n"
     ]
    },
    {
     "name": "stderr",
     "output_type": "stream",
     "text": [
      "100%|██████████| 10/10 [00:03<00:00,  2.63it/s]\n"
     ]
    },
    {
     "name": "stdout",
     "output_type": "stream",
     "text": [
      "Avg Valid Loss: 0.23462621867656708\n",
      "\n",
      "\n",
      "Epoch: 12\n"
     ]
    },
    {
     "name": "stderr",
     "output_type": "stream",
     "text": [
      "100%|██████████| 38/38 [00:14<00:00,  2.55it/s]\n"
     ]
    },
    {
     "name": "stdout",
     "output_type": "stream",
     "text": [
      "Total loss: 0.22139377892017365\n"
     ]
    },
    {
     "name": "stderr",
     "output_type": "stream",
     "text": [
      "100%|██████████| 10/10 [00:03<00:00,  2.68it/s]\n"
     ]
    },
    {
     "name": "stdout",
     "output_type": "stream",
     "text": [
      "Avg Valid Loss: 0.22361384332180023\n",
      "\n",
      "\n",
      "Epoch: 13\n"
     ]
    },
    {
     "name": "stderr",
     "output_type": "stream",
     "text": [
      "100%|██████████| 38/38 [00:15<00:00,  2.51it/s]\n"
     ]
    },
    {
     "name": "stdout",
     "output_type": "stream",
     "text": [
      "Total loss: 0.18270261585712433\n"
     ]
    },
    {
     "name": "stderr",
     "output_type": "stream",
     "text": [
      "100%|██████████| 10/10 [00:03<00:00,  2.66it/s]\n"
     ]
    },
    {
     "name": "stdout",
     "output_type": "stream",
     "text": [
      "Avg Valid Loss: 0.22755010426044464\n",
      "\n",
      "\n",
      "Epoch: 14\n"
     ]
    },
    {
     "name": "stderr",
     "output_type": "stream",
     "text": [
      "100%|██████████| 38/38 [00:15<00:00,  2.49it/s]\n"
     ]
    },
    {
     "name": "stdout",
     "output_type": "stream",
     "text": [
      "Total loss: 0.14953789114952087\n"
     ]
    },
    {
     "name": "stderr",
     "output_type": "stream",
     "text": [
      "100%|██████████| 10/10 [00:03<00:00,  2.63it/s]\n"
     ]
    },
    {
     "name": "stdout",
     "output_type": "stream",
     "text": [
      "Avg Valid Loss: 0.2213132232427597\n",
      "\n",
      "\n",
      "Epoch: 15\n"
     ]
    },
    {
     "name": "stderr",
     "output_type": "stream",
     "text": [
      "100%|██████████| 38/38 [00:15<00:00,  2.51it/s]\n"
     ]
    },
    {
     "name": "stdout",
     "output_type": "stream",
     "text": [
      "Total loss: 0.17518439888954163\n"
     ]
    },
    {
     "name": "stderr",
     "output_type": "stream",
     "text": [
      "100%|██████████| 10/10 [00:03<00:00,  2.65it/s]\n"
     ]
    },
    {
     "name": "stdout",
     "output_type": "stream",
     "text": [
      "Avg Valid Loss: 0.2222278118133545\n",
      "\n",
      "\n",
      "Epoch: 16\n"
     ]
    },
    {
     "name": "stderr",
     "output_type": "stream",
     "text": [
      "100%|██████████| 38/38 [00:15<00:00,  2.50it/s]\n"
     ]
    },
    {
     "name": "stdout",
     "output_type": "stream",
     "text": [
      "Total loss: 0.15723823010921478\n"
     ]
    },
    {
     "name": "stderr",
     "output_type": "stream",
     "text": [
      "100%|██████████| 10/10 [00:03<00:00,  2.61it/s]\n"
     ]
    },
    {
     "name": "stdout",
     "output_type": "stream",
     "text": [
      "Avg Valid Loss: 0.22091026604175568\n",
      "\n",
      "\n",
      "Epoch: 17\n"
     ]
    },
    {
     "name": "stderr",
     "output_type": "stream",
     "text": [
      "100%|██████████| 38/38 [00:15<00:00,  2.50it/s]\n"
     ]
    },
    {
     "name": "stdout",
     "output_type": "stream",
     "text": [
      "Total loss: 0.12685523927211761\n"
     ]
    },
    {
     "name": "stderr",
     "output_type": "stream",
     "text": [
      "100%|██████████| 10/10 [00:03<00:00,  2.62it/s]\n"
     ]
    },
    {
     "name": "stdout",
     "output_type": "stream",
     "text": [
      "Avg Valid Loss: 0.22350111603736877\n",
      "\n",
      "\n",
      "Epoch: 18\n"
     ]
    },
    {
     "name": "stderr",
     "output_type": "stream",
     "text": [
      "100%|██████████| 38/38 [00:15<00:00,  2.51it/s]\n"
     ]
    },
    {
     "name": "stdout",
     "output_type": "stream",
     "text": [
      "Total loss: 0.1683207005262375\n"
     ]
    },
    {
     "name": "stderr",
     "output_type": "stream",
     "text": [
      "100%|██████████| 10/10 [00:03<00:00,  2.60it/s]\n"
     ]
    },
    {
     "name": "stdout",
     "output_type": "stream",
     "text": [
      "Avg Valid Loss: 0.21880309283733368\n",
      "\n",
      "\n",
      "Epoch: 19\n"
     ]
    },
    {
     "name": "stderr",
     "output_type": "stream",
     "text": [
      "100%|██████████| 38/38 [00:15<00:00,  2.50it/s]\n"
     ]
    },
    {
     "name": "stdout",
     "output_type": "stream",
     "text": [
      "Total loss: 0.19649185240268707\n"
     ]
    },
    {
     "name": "stderr",
     "output_type": "stream",
     "text": [
      "100%|██████████| 10/10 [00:03<00:00,  2.61it/s]\n"
     ]
    },
    {
     "name": "stdout",
     "output_type": "stream",
     "text": [
      "Avg Valid Loss: 0.21665377914905548\n",
      "\n",
      "\n",
      "Epoch: 20\n"
     ]
    },
    {
     "name": "stderr",
     "output_type": "stream",
     "text": [
      "100%|██████████| 38/38 [00:15<00:00,  2.51it/s]\n"
     ]
    },
    {
     "name": "stdout",
     "output_type": "stream",
     "text": [
      "Total loss: 0.21359780430793762\n"
     ]
    },
    {
     "name": "stderr",
     "output_type": "stream",
     "text": [
      "100%|██████████| 10/10 [00:03<00:00,  2.63it/s]\n"
     ]
    },
    {
     "name": "stdout",
     "output_type": "stream",
     "text": [
      "Avg Valid Loss: 0.21475115418434143\n",
      "\n",
      "\n",
      "Epoch: 21\n"
     ]
    },
    {
     "name": "stderr",
     "output_type": "stream",
     "text": [
      "100%|██████████| 38/38 [00:15<00:00,  2.51it/s]\n"
     ]
    },
    {
     "name": "stdout",
     "output_type": "stream",
     "text": [
      "Total loss: 0.15560394525527954\n"
     ]
    },
    {
     "name": "stderr",
     "output_type": "stream",
     "text": [
      "100%|██████████| 10/10 [00:03<00:00,  2.63it/s]\n"
     ]
    },
    {
     "name": "stdout",
     "output_type": "stream",
     "text": [
      "Avg Valid Loss: 0.21510379016399384\n",
      "\n",
      "\n",
      "Epoch: 22\n"
     ]
    },
    {
     "name": "stderr",
     "output_type": "stream",
     "text": [
      "100%|██████████| 38/38 [00:14<00:00,  2.59it/s]\n"
     ]
    },
    {
     "name": "stdout",
     "output_type": "stream",
     "text": [
      "Total loss: 0.16793131828308105\n"
     ]
    },
    {
     "name": "stderr",
     "output_type": "stream",
     "text": [
      "100%|██████████| 10/10 [00:03<00:00,  2.82it/s]\n"
     ]
    },
    {
     "name": "stdout",
     "output_type": "stream",
     "text": [
      "Avg Valid Loss: 0.21316173672676086\n",
      "\n",
      "\n",
      "Epoch: 23\n"
     ]
    },
    {
     "name": "stderr",
     "output_type": "stream",
     "text": [
      "100%|██████████| 38/38 [00:15<00:00,  2.52it/s]\n"
     ]
    },
    {
     "name": "stdout",
     "output_type": "stream",
     "text": [
      "Total loss: 0.14015989005565643\n"
     ]
    },
    {
     "name": "stderr",
     "output_type": "stream",
     "text": [
      "100%|██████████| 10/10 [00:03<00:00,  2.65it/s]\n"
     ]
    },
    {
     "name": "stdout",
     "output_type": "stream",
     "text": [
      "Avg Valid Loss: 0.20668378472328186\n",
      "\n",
      "\n",
      "Epoch: 24\n"
     ]
    },
    {
     "name": "stderr",
     "output_type": "stream",
     "text": [
      "100%|██████████| 38/38 [00:15<00:00,  2.51it/s]\n"
     ]
    },
    {
     "name": "stdout",
     "output_type": "stream",
     "text": [
      "Total loss: 0.14142665266990662\n"
     ]
    },
    {
     "name": "stderr",
     "output_type": "stream",
     "text": [
      "100%|██████████| 10/10 [00:03<00:00,  2.63it/s]\n"
     ]
    },
    {
     "name": "stdout",
     "output_type": "stream",
     "text": [
      "Avg Valid Loss: 0.20569513738155365\n",
      "\n",
      "\n",
      "Epoch: 25\n"
     ]
    },
    {
     "name": "stderr",
     "output_type": "stream",
     "text": [
      "100%|██████████| 38/38 [00:15<00:00,  2.50it/s]\n"
     ]
    },
    {
     "name": "stdout",
     "output_type": "stream",
     "text": [
      "Total loss: 0.18324725329875946\n"
     ]
    },
    {
     "name": "stderr",
     "output_type": "stream",
     "text": [
      "100%|██████████| 10/10 [00:03<00:00,  2.62it/s]\n"
     ]
    },
    {
     "name": "stdout",
     "output_type": "stream",
     "text": [
      "Avg Valid Loss: 0.2056959718465805\n",
      "\n",
      "\n",
      "Epoch: 26\n"
     ]
    },
    {
     "name": "stderr",
     "output_type": "stream",
     "text": [
      "100%|██████████| 38/38 [00:15<00:00,  2.52it/s]\n"
     ]
    },
    {
     "name": "stdout",
     "output_type": "stream",
     "text": [
      "Total loss: 0.15472009778022766\n"
     ]
    },
    {
     "name": "stderr",
     "output_type": "stream",
     "text": [
      "100%|██████████| 10/10 [00:03<00:00,  2.63it/s]\n"
     ]
    },
    {
     "name": "stdout",
     "output_type": "stream",
     "text": [
      "Avg Valid Loss: 0.20643262565135956\n",
      "\n",
      "\n",
      "Epoch: 27\n"
     ]
    },
    {
     "name": "stderr",
     "output_type": "stream",
     "text": [
      "100%|██████████| 38/38 [00:15<00:00,  2.51it/s]\n"
     ]
    },
    {
     "name": "stdout",
     "output_type": "stream",
     "text": [
      "Total loss: 0.13715757429599762\n"
     ]
    },
    {
     "name": "stderr",
     "output_type": "stream",
     "text": [
      "100%|██████████| 10/10 [00:03<00:00,  2.65it/s]\n"
     ]
    },
    {
     "name": "stdout",
     "output_type": "stream",
     "text": [
      "Avg Valid Loss: 0.20111969113349915\n",
      "\n",
      "\n",
      "Epoch: 28\n"
     ]
    },
    {
     "name": "stderr",
     "output_type": "stream",
     "text": [
      "100%|██████████| 38/38 [00:15<00:00,  2.52it/s]\n"
     ]
    },
    {
     "name": "stdout",
     "output_type": "stream",
     "text": [
      "Total loss: 0.1166934221982956\n"
     ]
    },
    {
     "name": "stderr",
     "output_type": "stream",
     "text": [
      "100%|██████████| 10/10 [00:03<00:00,  2.64it/s]\n"
     ]
    },
    {
     "name": "stdout",
     "output_type": "stream",
     "text": [
      "Avg Valid Loss: 0.20828230679035187\n",
      "\n",
      "\n",
      "Epoch: 29\n"
     ]
    },
    {
     "name": "stderr",
     "output_type": "stream",
     "text": [
      "100%|██████████| 38/38 [00:15<00:00,  2.51it/s]\n"
     ]
    },
    {
     "name": "stdout",
     "output_type": "stream",
     "text": [
      "Total loss: 0.16076403856277466\n"
     ]
    },
    {
     "name": "stderr",
     "output_type": "stream",
     "text": [
      "100%|██████████| 10/10 [00:03<00:00,  2.65it/s]"
     ]
    },
    {
     "name": "stdout",
     "output_type": "stream",
     "text": [
      "Avg Valid Loss: 0.20253515243530273\n",
      "\n",
      "\n"
     ]
    },
    {
     "name": "stderr",
     "output_type": "stream",
     "text": [
      "\n"
     ]
    }
   ],
   "source": [
    "model = get_model()\n",
    "optimizer = torch.optim.AdamW(params=model.parameters(),\n",
    "                                  lr=LEARNING_RATE,\n",
    "                                  weight_decay=WEIGHT_DECAY)\n",
    "\n",
    "if LOAD_MODEL and CHECKPOINT_FILE in os.listdir():\n",
    "        print(\"Loading checkpoint\")\n",
    "        load_checkpoint(torch.load(CHECKPOINT_FILE), model, optimizer, LEARNING_RATE)\n",
    "model.train()\n",
    "for epoch in range(NUM_EPOCHS):\n",
    "                print(f\"Epoch: {epoch}\")\n",
    "                train_one_epoch(train_loader, model, optimizer, DEVICE)\n",
    "                vloss= validate(valid_loader, model, optimizer, DEVICE, epoch)"
   ]
  },
  {
   "cell_type": "markdown",
   "metadata": {
    "id": "AaSity_1Nl66"
   },
   "source": [
    "# Prediction"
   ]
  },
  {
   "cell_type": "code",
   "execution_count": null,
   "metadata": {
    "colab": {
     "base_uri": "https://localhost:8080/"
    },
    "id": "TD2aWzsRdkfZ",
    "outputId": "616780ca-9471-45c7-b3bf-2ac7f094ee92"
   },
   "outputs": [
    {
     "name": "stdout",
     "output_type": "stream",
     "text": [
      "Downloading...\n",
      "From: https://drive.google.com/uc?id=1VZdpRVDPCjh3Ro9KbJtb9CN2lakHnUy_\n",
      "To: /content/test_video.mp4\n",
      "\r",
      "  0% 0.00/7.15M [00:00<?, ?B/s]\r",
      " 66% 4.72M/7.15M [00:00<00:00, 38.7MB/s]\r",
      "100% 7.15M/7.15M [00:00<00:00, 54.6MB/s]\n"
     ]
    }
   ],
   "source": [
    "!gdown https://drive.google.com/uc?id=1VZdpRVDPCjh3Ro9KbJtb9CN2lakHnUy_"
   ]
  },
  {
   "cell_type": "code",
   "execution_count": null,
   "metadata": {
    "id": "QQvtBNv-dp22"
   },
   "outputs": [],
   "source": [
    "import cv2\n",
    "def predict_single_frame(frame):\n",
    "    images = cv2.resize(frame, IMAGE_SIZE, cv2.INTER_LINEAR)/255\n",
    "    images = torch.as_tensor(images, dtype=torch.float32).unsqueeze(0)\n",
    "    images = images.swapaxes(1, 3).swapaxes(2, 3)\n",
    "    images = list(image.to(DEVICE) for image in images)\n",
    "    \n",
    "    with torch.no_grad():\n",
    "      pred = model(images)\n",
    "    \n",
    "    im = images[0].swapaxes(0, 2).swapaxes(0, 1).detach().cpu().numpy().astype(np.float32)\n",
    "    im2 = np.zeros_like(im).astype(np.float32)\n",
    "    for i in range(len(pred[0]['masks'])):\n",
    "        msk=pred[0]['masks'][i,0].detach().cpu().numpy()\n",
    "        scr=pred[0]['scores'][i].detach().cpu().numpy()\n",
    "        box=pred[0]['boxes'][i].detach().cpu().numpy()\n",
    "        \n",
    "        if scr>0.9 :\n",
    "            cv2.rectangle(im, (int(box[0]), int(box[1])), (int(box[2]), int(box[3])), (0,0,1), 2)\n",
    "            cv2.putText(im, \"{0:.2f}%\".format(scr*100), (int(box[0]+5), int(box[1])+15), cv2.FONT_HERSHEY_SIMPLEX,\n",
    "                        0.5, (0,0,1), 2, cv2.LINE_AA)\n",
    "            im2[:,:,0][msk>0.87] = np.random.uniform(0,1)\n",
    "            im2[:, :, 1][msk > 0.87] = np.random.uniform(0,1)\n",
    "            im2[:, :, 2][msk > 0.87] = np.random.uniform(0,1)\n",
    "\n",
    "    return (cv2.addWeighted(im, 0.8, im2, 0.2,0)*255).astype(np.uint8)"
   ]
  },
  {
   "cell_type": "code",
   "execution_count": null,
   "metadata": {
    "id": "OF1bxwF-ds1n"
   },
   "outputs": [],
   "source": [
    "cap = cv2.VideoCapture('./test_video.mp4')\n",
    "model.train(False)\n",
    "\n",
    "if (cap.isOpened()== False): \n",
    "    print(\"Error opening video stream or file\")\n",
    "\n",
    "images = []   \n",
    "while(cap.isOpened()):\n",
    "    ret, frame = cap.read()\n",
    "    if ret == True:\n",
    "        result_frame = predict_single_frame(frame)\n",
    "        images.append(result_frame)\n",
    "    else: \n",
    "        break\n",
    "\n",
    "cap.release()"
   ]
  },
  {
   "cell_type": "code",
   "execution_count": null,
   "metadata": {
    "id": "bahnPTC2dwPG"
   },
   "outputs": [],
   "source": [
    "import imageio\n",
    "imageio.mimsave('./result.gif', images)"
   ]
  },
  {
   "cell_type": "code",
   "execution_count": null,
   "metadata": {
    "colab": {
     "base_uri": "https://localhost:8080/"
    },
    "id": "3OWLRmilKoaa",
    "outputId": "b00730cc-8843-428a-84f3-eef534e4253c"
   },
   "outputs": [
    {
     "name": "stdout",
     "output_type": "stream",
     "text": [
      "Mounted at /content/drive\n"
     ]
    }
   ],
   "source": [
    "from google.colab import drive\n",
    "drive.mount('/content/drive')\n",
    "imageio.mimsave('/content/drive/MyDrive/result.gif', images)"
   ]
  }
 ],
 "metadata": {
  "accelerator": "GPU",
  "colab": {
   "collapsed_sections": [
    "VxixVhwcL73z",
    "Ba-6X_qQMG6d",
    "McR1BFjKMljL",
    "fji0WQ_TNGP_",
    "lfIntiViN8vK",
    "AaSity_1Nl66"
   ],
   "provenance": []
  },
  "gpuClass": "premium",
  "kernelspec": {
   "display_name": "Python 3 (ipykernel)",
   "language": "python",
   "name": "python3"
  },
  "language_info": {
   "codemirror_mode": {
    "name": "ipython",
    "version": 3
   },
   "file_extension": ".py",
   "mimetype": "text/x-python",
   "name": "python",
   "nbconvert_exporter": "python",
   "pygments_lexer": "ipython3",
   "version": "3.9.12"
  },
  "widgets": {
   "application/vnd.jupyter.widget-state+json": {
    "2c47ca7cac88405b81bf4caaaad63a50": {
     "model_module": "@jupyter-widgets/base",
     "model_module_version": "1.2.0",
     "model_name": "LayoutModel",
     "state": {
      "_model_module": "@jupyter-widgets/base",
      "_model_module_version": "1.2.0",
      "_model_name": "LayoutModel",
      "_view_count": null,
      "_view_module": "@jupyter-widgets/base",
      "_view_module_version": "1.2.0",
      "_view_name": "LayoutView",
      "align_content": null,
      "align_items": null,
      "align_self": null,
      "border": null,
      "bottom": null,
      "display": null,
      "flex": null,
      "flex_flow": null,
      "grid_area": null,
      "grid_auto_columns": null,
      "grid_auto_flow": null,
      "grid_auto_rows": null,
      "grid_column": null,
      "grid_gap": null,
      "grid_row": null,
      "grid_template_areas": null,
      "grid_template_columns": null,
      "grid_template_rows": null,
      "height": null,
      "justify_content": null,
      "justify_items": null,
      "left": null,
      "margin": null,
      "max_height": null,
      "max_width": null,
      "min_height": null,
      "min_width": null,
      "object_fit": null,
      "object_position": null,
      "order": null,
      "overflow": null,
      "overflow_x": null,
      "overflow_y": null,
      "padding": null,
      "right": null,
      "top": null,
      "visibility": null,
      "width": null
     }
    },
    "32be7fb0cec14302b7b70e4bb4474aea": {
     "model_module": "@jupyter-widgets/base",
     "model_module_version": "1.2.0",
     "model_name": "LayoutModel",
     "state": {
      "_model_module": "@jupyter-widgets/base",
      "_model_module_version": "1.2.0",
      "_model_name": "LayoutModel",
      "_view_count": null,
      "_view_module": "@jupyter-widgets/base",
      "_view_module_version": "1.2.0",
      "_view_name": "LayoutView",
      "align_content": null,
      "align_items": null,
      "align_self": null,
      "border": null,
      "bottom": null,
      "display": null,
      "flex": null,
      "flex_flow": null,
      "grid_area": null,
      "grid_auto_columns": null,
      "grid_auto_flow": null,
      "grid_auto_rows": null,
      "grid_column": null,
      "grid_gap": null,
      "grid_row": null,
      "grid_template_areas": null,
      "grid_template_columns": null,
      "grid_template_rows": null,
      "height": null,
      "justify_content": null,
      "justify_items": null,
      "left": null,
      "margin": null,
      "max_height": null,
      "max_width": null,
      "min_height": null,
      "min_width": null,
      "object_fit": null,
      "object_position": null,
      "order": null,
      "overflow": null,
      "overflow_x": null,
      "overflow_y": null,
      "padding": null,
      "right": null,
      "top": null,
      "visibility": null,
      "width": null
     }
    },
    "363777814d10441f8f8c17da414642ae": {
     "model_module": "@jupyter-widgets/controls",
     "model_module_version": "1.5.0",
     "model_name": "FloatProgressModel",
     "state": {
      "_dom_classes": [],
      "_model_module": "@jupyter-widgets/controls",
      "_model_module_version": "1.5.0",
      "_model_name": "FloatProgressModel",
      "_view_count": null,
      "_view_module": "@jupyter-widgets/controls",
      "_view_module_version": "1.5.0",
      "_view_name": "ProgressView",
      "bar_style": "success",
      "description": "",
      "description_tooltip": null,
      "layout": "IPY_MODEL_2c47ca7cac88405b81bf4caaaad63a50",
      "max": 178090079,
      "min": 0,
      "orientation": "horizontal",
      "style": "IPY_MODEL_e3c677edd6c845e69a23f1ffeb9e65bc",
      "value": 178090079
     }
    },
    "4048ab22f90245d280ea15c8c52baf6b": {
     "model_module": "@jupyter-widgets/controls",
     "model_module_version": "1.5.0",
     "model_name": "HTMLModel",
     "state": {
      "_dom_classes": [],
      "_model_module": "@jupyter-widgets/controls",
      "_model_module_version": "1.5.0",
      "_model_name": "HTMLModel",
      "_view_count": null,
      "_view_module": "@jupyter-widgets/controls",
      "_view_module_version": "1.5.0",
      "_view_name": "HTMLView",
      "description": "",
      "description_tooltip": null,
      "layout": "IPY_MODEL_7b77dcf80a724b23a54d46e3ec0bda58",
      "placeholder": "​",
      "style": "IPY_MODEL_bdaf9d65105e4027a5b029b4e2daa49a",
      "value": " 170M/170M [00:02&lt;00:00, 70.4MB/s]"
     }
    },
    "707bc834692145cfb20fef5709ec9ff0": {
     "model_module": "@jupyter-widgets/controls",
     "model_module_version": "1.5.0",
     "model_name": "HTMLModel",
     "state": {
      "_dom_classes": [],
      "_model_module": "@jupyter-widgets/controls",
      "_model_module_version": "1.5.0",
      "_model_name": "HTMLModel",
      "_view_count": null,
      "_view_module": "@jupyter-widgets/controls",
      "_view_module_version": "1.5.0",
      "_view_name": "HTMLView",
      "description": "",
      "description_tooltip": null,
      "layout": "IPY_MODEL_c59ed527ae4640fda6dd63fee001ebd2",
      "placeholder": "​",
      "style": "IPY_MODEL_763962acd39e48a19cd885fb30c30abb",
      "value": "100%"
     }
    },
    "763962acd39e48a19cd885fb30c30abb": {
     "model_module": "@jupyter-widgets/controls",
     "model_module_version": "1.5.0",
     "model_name": "DescriptionStyleModel",
     "state": {
      "_model_module": "@jupyter-widgets/controls",
      "_model_module_version": "1.5.0",
      "_model_name": "DescriptionStyleModel",
      "_view_count": null,
      "_view_module": "@jupyter-widgets/base",
      "_view_module_version": "1.2.0",
      "_view_name": "StyleView",
      "description_width": ""
     }
    },
    "7b77dcf80a724b23a54d46e3ec0bda58": {
     "model_module": "@jupyter-widgets/base",
     "model_module_version": "1.2.0",
     "model_name": "LayoutModel",
     "state": {
      "_model_module": "@jupyter-widgets/base",
      "_model_module_version": "1.2.0",
      "_model_name": "LayoutModel",
      "_view_count": null,
      "_view_module": "@jupyter-widgets/base",
      "_view_module_version": "1.2.0",
      "_view_name": "LayoutView",
      "align_content": null,
      "align_items": null,
      "align_self": null,
      "border": null,
      "bottom": null,
      "display": null,
      "flex": null,
      "flex_flow": null,
      "grid_area": null,
      "grid_auto_columns": null,
      "grid_auto_flow": null,
      "grid_auto_rows": null,
      "grid_column": null,
      "grid_gap": null,
      "grid_row": null,
      "grid_template_areas": null,
      "grid_template_columns": null,
      "grid_template_rows": null,
      "height": null,
      "justify_content": null,
      "justify_items": null,
      "left": null,
      "margin": null,
      "max_height": null,
      "max_width": null,
      "min_height": null,
      "min_width": null,
      "object_fit": null,
      "object_position": null,
      "order": null,
      "overflow": null,
      "overflow_x": null,
      "overflow_y": null,
      "padding": null,
      "right": null,
      "top": null,
      "visibility": null,
      "width": null
     }
    },
    "bdaf9d65105e4027a5b029b4e2daa49a": {
     "model_module": "@jupyter-widgets/controls",
     "model_module_version": "1.5.0",
     "model_name": "DescriptionStyleModel",
     "state": {
      "_model_module": "@jupyter-widgets/controls",
      "_model_module_version": "1.5.0",
      "_model_name": "DescriptionStyleModel",
      "_view_count": null,
      "_view_module": "@jupyter-widgets/base",
      "_view_module_version": "1.2.0",
      "_view_name": "StyleView",
      "description_width": ""
     }
    },
    "c59ed527ae4640fda6dd63fee001ebd2": {
     "model_module": "@jupyter-widgets/base",
     "model_module_version": "1.2.0",
     "model_name": "LayoutModel",
     "state": {
      "_model_module": "@jupyter-widgets/base",
      "_model_module_version": "1.2.0",
      "_model_name": "LayoutModel",
      "_view_count": null,
      "_view_module": "@jupyter-widgets/base",
      "_view_module_version": "1.2.0",
      "_view_name": "LayoutView",
      "align_content": null,
      "align_items": null,
      "align_self": null,
      "border": null,
      "bottom": null,
      "display": null,
      "flex": null,
      "flex_flow": null,
      "grid_area": null,
      "grid_auto_columns": null,
      "grid_auto_flow": null,
      "grid_auto_rows": null,
      "grid_column": null,
      "grid_gap": null,
      "grid_row": null,
      "grid_template_areas": null,
      "grid_template_columns": null,
      "grid_template_rows": null,
      "height": null,
      "justify_content": null,
      "justify_items": null,
      "left": null,
      "margin": null,
      "max_height": null,
      "max_width": null,
      "min_height": null,
      "min_width": null,
      "object_fit": null,
      "object_position": null,
      "order": null,
      "overflow": null,
      "overflow_x": null,
      "overflow_y": null,
      "padding": null,
      "right": null,
      "top": null,
      "visibility": null,
      "width": null
     }
    },
    "c6dcec9d20b24a05a7af407b4b08cef8": {
     "model_module": "@jupyter-widgets/controls",
     "model_module_version": "1.5.0",
     "model_name": "HBoxModel",
     "state": {
      "_dom_classes": [],
      "_model_module": "@jupyter-widgets/controls",
      "_model_module_version": "1.5.0",
      "_model_name": "HBoxModel",
      "_view_count": null,
      "_view_module": "@jupyter-widgets/controls",
      "_view_module_version": "1.5.0",
      "_view_name": "HBoxView",
      "box_style": "",
      "children": [
       "IPY_MODEL_707bc834692145cfb20fef5709ec9ff0",
       "IPY_MODEL_363777814d10441f8f8c17da414642ae",
       "IPY_MODEL_4048ab22f90245d280ea15c8c52baf6b"
      ],
      "layout": "IPY_MODEL_32be7fb0cec14302b7b70e4bb4474aea"
     }
    },
    "e3c677edd6c845e69a23f1ffeb9e65bc": {
     "model_module": "@jupyter-widgets/controls",
     "model_module_version": "1.5.0",
     "model_name": "ProgressStyleModel",
     "state": {
      "_model_module": "@jupyter-widgets/controls",
      "_model_module_version": "1.5.0",
      "_model_name": "ProgressStyleModel",
      "_view_count": null,
      "_view_module": "@jupyter-widgets/base",
      "_view_module_version": "1.2.0",
      "_view_name": "StyleView",
      "bar_color": null,
      "description_width": ""
     }
    }
   }
  }
 },
 "nbformat": 4,
 "nbformat_minor": 1
}
